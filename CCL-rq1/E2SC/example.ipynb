{
 "cells": [
  {
   "cell_type": "code",
   "execution_count": 1,
   "metadata": {},
   "outputs": [],
   "source": [
    "%load_ext autoreload\n",
    "%autoreload 2"
   ]
  },
  {
   "cell_type": "code",
   "execution_count": 2,
   "metadata": {},
   "outputs": [
    {
     "name": "stderr",
     "output_type": "stream",
     "text": [
      "/home/waashk/e2sc-is/settings/env/lib/python3.6/site-packages/sklearn/externals/six.py:31: DeprecationWarning: The module is deprecated in version 0.21 and will be removed in version 0.23 since we've dropped support for Python 2.7. Please rely on the official version of six (https://pypi.org/project/six/).\n",
      "  \"(https://pypi.org/project/six/).\", DeprecationWarning)\n"
     ]
    }
   ],
   "source": [
    "\n",
    "\n",
    "from src.main.python.iSel import cnn, enn, icf, lssm, lsbo, drop3, ldis, cdis, xldis, psdsp, ib3, cis, egdis, e2sc\n",
    "from src.main.python.utils.general import get_data\n",
    "from sklearn.neighbors import KNeighborsClassifier\n",
    "from sklearn.metrics import accuracy_score"
   ]
  },
  {
   "cell_type": "code",
   "execution_count": 42,
   "metadata": {},
   "outputs": [],
   "source": [
    "\n",
    "def get_selector(method: str):\n",
    "    print(f\"IS-Method: {method}\")\n",
    "    #Baselines\n",
    "    if method == 'cnn':     return cnn.CNN()\n",
    "    if method == 'enn':     return enn.ENN()\n",
    "    if method == 'icf':     return icf.ICF()\n",
    "    if method == 'lssm':    return lssm.LSSm()\n",
    "    if method == 'lsbo':    return lsbo.LSBo()\n",
    "    if method == 'drop3':   return drop3.DROP3()\n",
    "    if method == 'ldis':    return ldis.LDIS()\n",
    "    if method == 'cdis':    return cdis.CDIS()\n",
    "    if method == 'xldis':   return xldis.XLDIS()\n",
    "    if method == 'psdsp':   return psdsp.PSDSP()\n",
    "    if method == 'ib3':     return ib3.IB3()\n",
    "    if method == 'egdis':   return egdis.EGDIS()\n",
    "    if method == 'cis':     return cis.CIS(task=\"atc\")\n",
    "    #proposed framework\n",
    "    if method == 'e2sc-1':   return e2sc.E2SC(alphaMode=\"exact\", betaMode='iterative')\n",
    "    if method == 'e2sc-2':   return e2sc.E2SC(alphaMode=\"approximated\", betaMode='heuristic')\n",
    "    return None\n"
   ]
  },
  {
   "attachments": {},
   "cell_type": "markdown",
   "metadata": {},
   "source": [
    "# Opening data - aisopos_ntua_2L dataset"
   ]
  },
  {
   "cell_type": "code",
   "execution_count": 43,
   "metadata": {},
   "outputs": [],
   "source": [
    "inputdir = \"resources/datasets/aisopos_ntua_2L/tfidf/\"\n",
    "\n",
    "X_train, y_train, X_test, y_test, _ = get_data(inputdir, f=0)"
   ]
  },
  {
   "attachments": {},
   "cell_type": "markdown",
   "metadata": {},
   "source": [
    "# Example CNN - Selecting Instances"
   ]
  },
  {
   "cell_type": "code",
   "execution_count": 57,
   "metadata": {},
   "outputs": [
    {
     "name": "stdout",
     "output_type": "stream",
     "text": [
      "IS-Method: e2sc-2\n"
     ]
    },
    {
     "data": {
      "text/plain": [
       "0.248"
      ]
     },
     "execution_count": 57,
     "metadata": {},
     "output_type": "execute_result"
    }
   ],
   "source": [
    "#selector = e2sc.E2SC(alphaMode=\"approximated\", beta=0.15)\n",
    "#selector = e2sc.E2SC(alphaMode=\"exact\", betaMode='iterative')\n",
    "selector = get_selector(method=\"e2sc-2\")\n",
    "#selector = get_selector(method=\"e2sc-1\")\n",
    "selector.fit(X_train, y_train)\n",
    "idx = selector.sample_indices_\n",
    "#print(idx)\n",
    "X_train_selected, y_train_selected =  X_train[idx], y_train[idx]\n",
    "selector.reduction_"
   ]
  },
  {
   "attachments": {},
   "cell_type": "markdown",
   "metadata": {},
   "source": [
    "# Example CNN - Comparing Classifiers"
   ]
  },
  {
   "cell_type": "code",
   "execution_count": 58,
   "metadata": {},
   "outputs": [
    {
     "name": "stdout",
     "output_type": "stream",
     "text": [
      "NoSel: 0.75\n",
      "CNN: 0.75\n"
     ]
    }
   ],
   "source": [
    "clf = KNeighborsClassifier(n_neighbors=1)\n",
    "clf.fit(X_train, y_train)\n",
    "\n",
    "y_pred = clf.predict(X_test)\n",
    "acc = accuracy_score(y_test, y_pred)\n",
    "\n",
    "print(f\"NoSel: {acc}\")\n",
    "\n",
    "clf = KNeighborsClassifier(n_neighbors=1)\n",
    "clf.fit(X_train_selected, y_train_selected)\n",
    "\n",
    "y_pred = clf.predict(X_test)\n",
    "acc = accuracy_score(y_test, y_pred)\n",
    "\n",
    "print(f\"CNN: {acc}\")\n"
   ]
  },
  {
   "attachments": {},
   "cell_type": "markdown",
   "metadata": {},
   "source": [
    "# make_classification Example"
   ]
  },
  {
   "cell_type": "code",
   "execution_count": 43,
   "metadata": {},
   "outputs": [
    {
     "name": "stdout",
     "output_type": "stream",
     "text": [
      "Original dataset shape Counter({1: 900, 0: 100})\n"
     ]
    }
   ],
   "source": [
    "from collections import Counter\n",
    "from sklearn.datasets import make_classification\n",
    "from src.main.python.iSel import e2sc\n",
    "X, y = make_classification(n_classes=2, class_sep=2, weights=[0.1, 0.9], n_informative=3, n_redundant=1, flip_y=0, n_features=20, n_clusters_per_class=1, n_samples=1000, random_state=10)\n",
    "print('Original dataset shape %s' % Counter(y))\n",
    "\n"
   ]
  },
  {
   "cell_type": "code",
   "execution_count": 46,
   "metadata": {},
   "outputs": [
    {
     "name": "stdout",
     "output_type": "stream",
     "text": [
      "Resampled dataset shape Counter({1: 36, 0: 14})\n"
     ]
    }
   ],
   "source": [
    "selector = e2sc.E2SC()\n",
    "selector.fit(X, y)\n",
    "idx = selector.sample_indices_\n",
    "X_train_selected, y_train_selected =  X[idx], y[idx]\n",
    "print('Resampled dataset shape %s' % Counter(y_train_selected))\n"
   ]
  },
  {
   "cell_type": "code",
   "execution_count": null,
   "metadata": {},
   "outputs": [],
   "source": []
  }
 ],
 "metadata": {
  "kernelspec": {
   "display_name": "env",
   "language": "python",
   "name": "python3"
  },
  "language_info": {
   "codemirror_mode": {
    "name": "ipython",
    "version": 3
   },
   "file_extension": ".py",
   "mimetype": "text/x-python",
   "name": "python",
   "nbconvert_exporter": "python",
   "pygments_lexer": "ipython3",
   "version": "3.6.15"
  },
  "orig_nbformat": 4
 },
 "nbformat": 4,
 "nbformat_minor": 2
}
